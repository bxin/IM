{
 "cells": [
  {
   "cell_type": "code",
   "execution_count": null,
   "metadata": {
    "collapsed": false
   },
   "outputs": [],
   "source": [
    "%matplotlib inline\n",
    "import os\n",
    "import numpy as np\n",
    "import matplotlib.pyplot as plt\n",
    "from astropy.io import fits\n",
    "\n",
    "from aosMetric import opd2psf\n",
    "from aosMetric import calc_pssn\n",
    "from aosMetric import psf2delta\n",
    "from aosMetric import psf2FWHMrms\n",
    "from aosMetric import psf2FWHMring\n",
    "from lsst.cwfs.tools import extractArray"
   ]
  },
  {
   "cell_type": "code",
   "execution_count": null,
   "metadata": {
    "collapsed": false
   },
   "outputs": [],
   "source": [
    "iField = 1 #field center\n",
    "instring = 'polishing_M1M3SOML_SPOTS'\n",
    "wfmFile = '../data/%s_fld%d_wfm.fits' % (instring, iField) #wavefront OPD in wave, 2048x2048\n",
    "psfFile = wfmFile.replace('_wfm','_psf')\n",
    "IHDU = fits.open(wfmFile)\n",
    "wfm = IHDU[0].data\n",
    "IHDU.close()"
   ]
  },
  {
   "cell_type": "code",
   "execution_count": null,
   "metadata": {
    "collapsed": false
   },
   "outputs": [],
   "source": [
    "plt.imshow(wfm,vmin=-1, vmax=1)\n",
    "plt.colorbar()\n",
    "plt.title('OPD in wave')"
   ]
  },
  {
   "cell_type": "code",
   "execution_count": null,
   "metadata": {
    "collapsed": false
   },
   "outputs": [],
   "source": [
    "# 1mas pixel on the PSF, so that we can look at fine feature, \n",
    "# but can still cover large radius with a acceptably large array\n",
    "pixum = 0.05\n",
    "pixmas = pixum*20 \n",
    "d = 4096\n",
    "wlum = 0.5\n",
    "wfmum = wfm*wlum\n",
    "if not os.path.isfile(psfFile):\n",
    "    img = opd2psf(wfmum, 0, wlum, pixum, 1, 1.2335, 0) #input OPD needs to be in micron\n",
    "    psf = extractArray(img, d)\n",
    "    hdu = fits.PrimaryHDU(psf)\n",
    "    hdu.writeto(psfFile)\n",
    "        \n",
    "else:\n",
    "    IHDU = fits.open(psfFile)\n",
    "    psf = IHDU[0].data\n",
    "    IHDU.close()"
   ]
  },
  {
   "cell_type": "code",
   "execution_count": null,
   "metadata": {
    "collapsed": false
   },
   "outputs": [],
   "source": [
    "plt.imshow(psf,vmax=0.0001)\n",
    "plt.colorbar()\n",
    "plt.title('PSF (normalized total intensity)')"
   ]
  },
  {
   "cell_type": "code",
   "execution_count": null,
   "metadata": {
    "collapsed": false
   },
   "outputs": [],
   "source": [
    "dp1=100\n",
    "psfp1=(extractArray(psf,dp1))\n",
    "x0=np.arange(1,dp1+1)\n",
    "x1=(x0-dp1/2)*pixmas\n",
    "x, y = np.meshgrid(x1, x1)\n",
    "psfp1=psfp1/np.max(psfp1)"
   ]
  },
  {
   "cell_type": "code",
   "execution_count": null,
   "metadata": {
    "collapsed": false
   },
   "outputs": [],
   "source": [
    "from mpl_toolkits.mplot3d import Axes3D\n",
    "\n",
    "fig = plt.figure()\n",
    "ax = fig.gca(projection='3d')\n",
    "ax.plot_surface(x,y,psfp1,cmap=plt.cm.coolwarm)\n",
    "ax.set_xlabel('mas')\n",
    "ax.set_ylabel('mas')"
   ]
  },
  {
   "cell_type": "code",
   "execution_count": null,
   "metadata": {
    "collapsed": false
   },
   "outputs": [],
   "source": [
    "#pssn, and the pssn-native fwhmeff\n",
    "pssn, fwhmeff_12mas = calc_pssn(wfmum, wlum, type='opd')"
   ]
  },
  {
   "cell_type": "code",
   "execution_count": null,
   "metadata": {
    "collapsed": false
   },
   "outputs": [],
   "source": [
    "#fwhmeff from pssn. This has been the default method\n",
    "fwhmeff = np.sqrt((1-pssn)/pssn)*600*1.086"
   ]
  },
  {
   "cell_type": "code",
   "execution_count": null,
   "metadata": {
    "collapsed": true
   },
   "outputs": [],
   "source": [
    "#fwhmeff of the instrument psf itself.\n",
    "psfn = psf/np.sum(psf)\n",
    "neff = 1/np.sum(psfn**2)\n",
    "fwhmeff_1mas = 0.664*pixmas*np.sqrt(neff)"
   ]
  },
  {
   "cell_type": "code",
   "execution_count": null,
   "metadata": {
    "collapsed": true
   },
   "outputs": [],
   "source": [
    "# get fwhmdif using d80\n",
    "fwhm, xbar, ybar = psf2delta(psf,pixum,0,0,'fwhm',0)\n",
    "fwhm80 = fwhm*20  #from micron to mas"
   ]
  },
  {
   "cell_type": "code",
   "execution_count": null,
   "metadata": {
    "collapsed": false
   },
   "outputs": [],
   "source": [
    "# get fwhmdif using d99\n",
    "fwhm, xbar, ybar = psf2delta(psf,pixum,0,0,'fwhm99',0)\n",
    "fwhm99 = fwhm*20 #from micron to mas"
   ]
  },
  {
   "cell_type": "code",
   "execution_count": null,
   "metadata": {
    "collapsed": false
   },
   "outputs": [],
   "source": [
    "# get fwhmgeo using rms spot size\n",
    "fwhm, xbar, ybar, maskR = psf2FWHMrms(psf,-1,0)\n",
    "fwhmgeo = fwhm*pixmas"
   ]
  },
  {
   "cell_type": "code",
   "execution_count": null,
   "metadata": {
    "collapsed": false
   },
   "outputs": [],
   "source": [
    "FWHMRing = psf2FWHMring(wfmum, wlum)"
   ]
  },
  {
   "cell_type": "code",
   "execution_count": null,
   "metadata": {
    "collapsed": false
   },
   "outputs": [],
   "source": [
    "print('PSSN \\t \\t -> FWHMeff = %6.1f'% fwhmeff)\n",
    "print('psfe in PSSN \\t -> FWHMeff= %6.1f (with 12mas resolution)'% fwhmeff_12mas)\n",
    "print('psf \\t \\t -> FWHMeff = %6.1f (with 1mas resolution)'% fwhmeff_1mas)\n",
    "print('D80 \\t \\t -> FWHMdif = %6.1f'% fwhm80)\n",
    "print('D99 \\t \\t -> FWHMdif = %6.1f'% fwhm99)\n",
    "print('RMS \\t \\t -> FWHMgeo = %6.1f'% fwhmgeo)\n",
    "print('Ring \\t \\t -> FWHM = %6.1f'% FWHMRing)"
   ]
  },
  {
   "cell_type": "code",
   "execution_count": null,
   "metadata": {
    "collapsed": false
   },
   "outputs": [],
   "source": [
    "dp2=d\n",
    "psfp2=(extractArray(psf,dp2))\n",
    "psfp2 = psfp2/np.max(psfp2)\n",
    "x0=np.arange(1,dp2+1)\n",
    "x2=(x0-dp2/2)*pixmas/1000 #in arcsec\n",
    "plt.semilogy(x2,psfp2[dp2/2,:],'-b');\n",
    "y80 = np.exp(-x2**2/2/((fwhm80/1000/2.3548)**2))\n",
    "plt.semilogy(x2,y80,'-r',label='FWHM80')\n",
    "y99 = np.exp(-x2**2/2/((fwhm99/1000/2.3548)**2))\n",
    "plt.semilogy(x2,y99,'-k',label='FWHM99')\n",
    "yeff = np.exp(-x2**2/2/((fwhmeff/1000/2.3548)**2))\n",
    "plt.semilogy(x2,yeff,'-g',label='FWHMeff')\n",
    "yring = np.exp(-x2**2/2/((FWHMRing/1000/2.3548)**2))\n",
    "plt.semilogy(x2,yring,'-m',label='FWHMRing')\n",
    "plt.ylim([1e-10,1])\n",
    "plt.xlabel('arcsec')\n",
    "plt.legend(loc='upper right')"
   ]
  },
  {
   "cell_type": "code",
   "execution_count": null,
   "metadata": {
    "collapsed": true
   },
   "outputs": [],
   "source": []
  }
 ],
 "metadata": {
  "kernelspec": {
   "display_name": "Python 3",
   "language": "python",
   "name": "python3"
  },
  "language_info": {
   "codemirror_mode": {
    "name": "ipython",
    "version": 3
   },
   "file_extension": ".py",
   "mimetype": "text/x-python",
   "name": "python",
   "nbconvert_exporter": "python",
   "pygments_lexer": "ipython3",
   "version": "3.4.5"
  }
 },
 "nbformat": 4,
 "nbformat_minor": 0
}
