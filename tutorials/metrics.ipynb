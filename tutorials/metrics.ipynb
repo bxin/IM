{
 "cells": [
  {
   "cell_type": "code",
   "execution_count": 25,
   "metadata": {
    "collapsed": true
   },
   "outputs": [],
   "source": [
    "from astropy.io import fits\n",
    "from lsst.cwfs.tools import ZernikeAnnularFit\n",
    "from lsst.cwfs.tools import ZernikeAnnularEval\n",
    "import numpy as np\n",
    "from aosMetric import calc_pssn\n",
    "from aosMetric import psf2eAtmW"
   ]
  },
  {
   "cell_type": "code",
   "execution_count": 4,
   "metadata": {
    "collapsed": false
   },
   "outputs": [],
   "source": [
    "IHDU = fits.open('../image/sim48/iter0/sim48_iter0_opd0.fits')\n",
    "opd = IHDU[0].data\n",
    "IHDU.close()"
   ]
  },
  {
   "cell_type": "code",
   "execution_count": 10,
   "metadata": {
    "collapsed": false
   },
   "outputs": [],
   "source": [
    "wavelength = 0.5\n",
    "opdSize = opd.shape[0]\n",
    "opdGrid1d = np.linspace(-1, 1, opdSize)\n",
    "opdx, opdy = np.meshgrid(opdGrid1d, opdGrid1d)"
   ]
  },
  {
   "cell_type": "code",
   "execution_count": 11,
   "metadata": {
    "collapsed": false
   },
   "outputs": [],
   "source": [
    "# before calc_pssn,\n",
    "# (1) remove PTT,\n",
    "# (2) make sure outside of pupil are all zeros\n",
    "idx = (opd != 0)\n",
    "Z = ZernikeAnnularFit(opd[idx], opdx[idx], opdy[idx], 3, 0)\n",
    "Z[3:] = 0\n",
    "opd[idx] -= ZernikeAnnularEval(Z, opdx[idx], opdy[idx], 0)"
   ]
  },
  {
   "cell_type": "code",
   "execution_count": 22,
   "metadata": {
    "collapsed": false
   },
   "outputs": [
    {
     "name": "stdout",
     "output_type": "stream",
     "text": [
      "opd2psf(): imagedelta=0.0000000 means using OPD with padding as provided\n",
      "verify psf has been normalized:  1.0\n",
      "opd2psf(): imagedelta=0.0000000 means using OPD with padding as provided\n",
      "verify psf has been normalized:  1.0\n",
      "pssn = 6.24194647e-05/1.17202374e-04 = 0.5326\n"
     ]
    }
   ],
   "source": [
    "PSSN = calc_pssn(opd, wavelength, debugLevel=3)"
   ]
  },
  {
   "cell_type": "code",
   "execution_count": 23,
   "metadata": {
    "collapsed": true
   },
   "outputs": [],
   "source": [
    "FWHMeff = 1.086 * 0.6 * np.sqrt(1 / PSSN - 1)"
   ]
  },
  {
   "cell_type": "code",
   "execution_count": 24,
   "metadata": {
    "collapsed": false
   },
   "outputs": [],
   "source": [
    "dm5 = -1.25 * np.log10(PSSN)"
   ]
  },
  {
   "cell_type": "code",
   "execution_count": 26,
   "metadata": {
    "collapsed": false
   },
   "outputs": [
    {
     "name": "stdout",
     "output_type": "stream",
     "text": [
      "padding=3.083750\n",
      "opd2psf(): imagedelta=0.200000\n",
      "verify psf has been normalized:  1.0\n",
      "Below from the Gaussian weigting function on elli\n",
      "sigma1=0.2548 arcsec\n",
      "xbar=394.748, ybar=392.378\n"
     ]
    }
   ],
   "source": [
    "elli, q11, q22, q12 = psf2eAtmW(opd, wavelength, debugLevel=3)"
   ]
  },
  {
   "cell_type": "code",
   "execution_count": null,
   "metadata": {
    "collapsed": true
   },
   "outputs": [],
   "source": []
  }
 ],
 "metadata": {
  "kernelspec": {
   "display_name": "Python 3",
   "language": "python",
   "name": "python3"
  },
  "language_info": {
   "codemirror_mode": {
    "name": "ipython",
    "version": 3
   },
   "file_extension": ".py",
   "mimetype": "text/x-python",
   "name": "python",
   "nbconvert_exporter": "python",
   "pygments_lexer": "ipython3",
   "version": "3.4.5"
  }
 },
 "nbformat": 4,
 "nbformat_minor": 0
}
